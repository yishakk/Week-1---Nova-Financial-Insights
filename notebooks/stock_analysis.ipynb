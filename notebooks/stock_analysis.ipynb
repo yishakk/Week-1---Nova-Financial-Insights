{
 "cells": [
  {
   "cell_type": "code",
   "execution_count": 1,
   "metadata": {},
   "outputs": [],
   "source": [
    "import os, sys\n",
    "notebook_dir = os.getcwd()\n",
    "sys.path.append(os.path.abspath(os.path.join(notebook_dir,'..')))"
   ]
  },
  {
   "cell_type": "code",
   "execution_count": 2,
   "metadata": {},
   "outputs": [],
   "source": [
    "from scripts.data_loader import load_data\n",
    "from scripts.data_loader import load_csv_files"
   ]
  },
  {
   "cell_type": "code",
   "execution_count": 3,
   "metadata": {},
   "outputs": [],
   "source": [
    "file_paths = [\n",
    "    \"../data/yfinance_data/AAPL_historical_data.csv\",\n",
    "    \"../data/yfinance_data/AMZN_historical_data.csv\",\n",
    "    \"../data/yfinance_data/GOOG_historical_data.csv\",\n",
    "    \"../data/yfinance_data/META_historical_data.csv\",\n",
    "    \"../data/yfinance_data/MSFT_historical_data.csv\",\n",
    "    \"../data/yfinance_data/NVDA_historical_data.csv\",\n",
    "    \"../data/yfinance_data/TSLA_historical_data.csv\",\n",
    "]\n",
    "stock_names = [\"AAPL\", \"AMZN\", \"GOOG\", \"META\", \"MSFT\", \"NVDA\", \"TSLA\"]\n",
    "\n",
    "\n",
    "combined_data = load_csv_files(file_paths, stock_names)"
   ]
  },
  {
   "cell_type": "code",
   "execution_count": 5,
   "metadata": {},
   "outputs": [],
   "source": [
    "combined_data.columns = combined_data.columns.str.strip()\n",
    "required_columns = [\"Open\", \"High\", \"Low\", \"Close\", \"Volume\"]\n",
    "if not all(col in combined_data.columns for col in required_columns):\n",
    "    raise ValueError(\"The dataset must include Open, High, Low, Close, and Volume columns.\")"
   ]
  }
 ],
 "metadata": {
  "kernelspec": {
   "display_name": "venv",
   "language": "python",
   "name": "python3"
  },
  "language_info": {
   "codemirror_mode": {
    "name": "ipython",
    "version": 3
   },
   "file_extension": ".py",
   "mimetype": "text/x-python",
   "name": "python",
   "nbconvert_exporter": "python",
   "pygments_lexer": "ipython3",
   "version": "3.13.1"
  }
 },
 "nbformat": 4,
 "nbformat_minor": 2
}
